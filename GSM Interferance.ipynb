{
 "cells": [
  {
   "cell_type": "code",
   "execution_count": 1,
   "id": "a5baa1f2-88d3-424f-b28b-0422256b509b",
   "metadata": {},
   "outputs": [],
   "source": [
    "import pandas as pd"
   ]
  },
  {
   "cell_type": "code",
   "execution_count": 2,
   "id": "29958870-f901-44ef-83aa-045a2620651a",
   "metadata": {},
   "outputs": [],
   "source": [
    "# Read the GSM CSV file into a DataFrame\n",
    "df = pd.read_csv('GSM.csv')"
   ]
  },
  {
   "cell_type": "code",
   "execution_count": 3,
   "id": "3791d9c5-7f1d-4f42-90d0-c88d4c73503f",
   "metadata": {},
   "outputs": [],
   "source": [
    "# Convert 'BCCH' column to numeric type\n",
    "df['BCCH'] = pd.to_numeric(df['BCCH'], errors='coerce')"
   ]
  },
  {
   "cell_type": "code",
   "execution_count": 4,
   "id": "25362478-cf2e-4f6f-9e0d-d7fa54fa3b43",
   "metadata": {},
   "outputs": [],
   "source": [
    "def check_co_channel_interference(df):\n",
    "    # Create a list to store results\n",
    "    results = []\n",
    "\n",
    "    # Group the DataFrame by 'SiteID'\n",
    "    grouped = df.groupby(['SiteID', 'SiteName'])\n",
    "    \n",
    "    # Iterate over each group\n",
    "    for (site, site_name), data in grouped:\n",
    "        # Initialize a set to store unique BCCH values for each CellID\n",
    "        bcch_dict = {}\n",
    "        \n",
    "        # Iterate over each row in the group and store BCCH values in the dictionary\n",
    "        for _, row in data.iterrows():\n",
    "            cell_id = row['CellID']\n",
    "            bcch = row['BCCH']\n",
    "            bcch_dict[cell_id] = bcch\n",
    "        \n",
    "        # Check for co-channel interference within each CellID\n",
    "        for cell1, bcch1 in bcch_dict.items():\n",
    "            for cell2, bcch2 in bcch_dict.items():\n",
    "                if cell1 != cell2 and bcch1 == bcch2:\n",
    "                    results.append((site, site_name, cell1, cell2, 'Co-Channel Interference'))\n",
    "    \n",
    "    # Create a DataFrame from the results list\n",
    "    co_channel_df = pd.DataFrame(results, columns=['SiteID', 'SiteName', 'CellID1', 'CellID2', 'Interference'])\n",
    "\n",
    "    return co_channel_df\n"
   ]
  },
  {
   "cell_type": "code",
   "execution_count": 5,
   "id": "5b12ec36-ff4f-4ef4-b377-ec5e601bba7a",
   "metadata": {},
   "outputs": [],
   "source": [
    "def check_adjacent_channel_interference(df):\n",
    "    # Create a list to store results\n",
    "    results = []\n",
    "\n",
    "    # Group the DataFrame by 'SiteID'\n",
    "    grouped = df.groupby(['SiteID', 'SiteName'])\n",
    "    \n",
    "    # Iterate over each group\n",
    "    for (site, site_name), data in grouped:\n",
    "        # Initialize a dictionary to store BCCH values for each CellID\n",
    "        bcch_dict = {}\n",
    "        \n",
    "        # Iterate over each row in the group and store BCCH values in the dictionary\n",
    "        for _, row in data.iterrows():\n",
    "            cell_id = row['CellID']\n",
    "            bcch = row['BCCH']\n",
    "            bcch_dict[cell_id] = bcch\n",
    "        \n",
    "        # Check for adjacent channel interference within each CellID\n",
    "        for cell_id, bcch in bcch_dict.items():\n",
    "            # Check the BCCH difference with the adjacent CellIDs\n",
    "            adjacent_bcch_1 = bcch_dict.get(cell_id - 1)\n",
    "            adjacent_bcch_2 = bcch_dict.get(cell_id + 1)\n",
    "            if adjacent_bcch_1 is not None and abs(bcch - adjacent_bcch_1) == 1:\n",
    "                results.append((site, site_name, cell_id, cell_id - 1, 'Adjacent Channel Interference'))\n",
    "            elif adjacent_bcch_2 is not None and abs(bcch - adjacent_bcch_2) == 1:\n",
    "                results.append((site, site_name, cell_id, cell_id + 1, 'Adjacent Channel Interference'))\n",
    "    \n",
    "    # Create a DataFrame from the results list\n",
    "    adj_channel_df = pd.DataFrame(results, columns=['SiteID', 'SiteName', 'Source_CellID', 'Target_CellID', 'Interference'])\n",
    "\n",
    "    return adj_channel_df\n"
   ]
  },
  {
   "cell_type": "code",
   "execution_count": 6,
   "id": "66f80c42-07f4-4a8a-83a7-d9cbe0b09486",
   "metadata": {},
   "outputs": [],
   "source": [
    "\n",
    "# Call the functions to get co-channel and adjacent channel interference DataFrames\n",
    "co_channel_df = check_co_channel_interference(df)\n",
    "adj_channel_df = check_adjacent_channel_interference(df)\n"
   ]
  },
  {
   "cell_type": "code",
   "execution_count": 7,
   "id": "831d9273-6399-4098-8280-f3351634b03b",
   "metadata": {},
   "outputs": [],
   "source": [
    "# Create an ExcelWriter object\n",
    "with pd.ExcelWriter('GSM_interference_results_Batch7.xlsx') as writer:\n",
    "    # Write co-channel DataFrame to a sheet\n",
    "    co_channel_df.to_excel(writer, sheet_name='Co-Channel Interference', index=False)\n",
    "    \n",
    "    # Write adjacent channel DataFrame to a sheet\n",
    "    adj_channel_df.to_excel(writer, sheet_name='Adjacent Channel Interference', index=False)\n"
   ]
  },
  {
   "cell_type": "code",
   "execution_count": null,
   "id": "aa52739c-a6d3-4b45-ab4f-86e67c4eebd8",
   "metadata": {},
   "outputs": [],
   "source": []
  }
 ],
 "metadata": {
  "kernelspec": {
   "display_name": "Python 3 (ipykernel)",
   "language": "python",
   "name": "python3"
  },
  "language_info": {
   "codemirror_mode": {
    "name": "ipython",
    "version": 3
   },
   "file_extension": ".py",
   "mimetype": "text/x-python",
   "name": "python",
   "nbconvert_exporter": "python",
   "pygments_lexer": "ipython3",
   "version": "3.12.2"
  }
 },
 "nbformat": 4,
 "nbformat_minor": 5
}
